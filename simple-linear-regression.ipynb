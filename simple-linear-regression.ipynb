{
 "cells": [
  {
   "cell_type": "code",
   "execution_count": 1,
   "metadata": {
    "collapsed": false
   },
   "outputs": [],
   "source": [
    "import pandas as pd\n",
    "import matplotlib.pyplot as plt\n",
    "import numpy as np\n",
    "from sklearn.linear_model import LinearRegression\n",
    "import itertools as itr\n",
    "\n",
    "%matplotlib inline"
   ]
  },
  {
   "cell_type": "markdown",
   "metadata": {},
   "source": [
    "## Ground Cricket Chirps\n",
    "\n",
    "In _The Song of Insects_ (1948) by George W. Pierce, Pierce mechanically measured the frequency (the number of wing vibrations per second) of chirps (or pulses of sound) made by a striped ground cricket, at various ground temperatures.  Since crickets are ectotherms (cold-blooded), the rate of their physiological processes and their overall metabolism are influenced by temperature.  Consequently, there is reason to believe that temperature would have a profound effect on aspects of their behavior, such as chirp frequency.\n",
    "\n",
    "In general, it was found that crickets did not sing at temperatures colder than 60&deg; F or warmer than 100&deg; F."
   ]
  },
  {
   "cell_type": "code",
   "execution_count": 2,
   "metadata": {
    "collapsed": false
   },
   "outputs": [],
   "source": [
    "ground_cricket_data = {\"Chirps/Second\": [20.0, 16.0, 19.8, 18.4, 17.1, 15.5, 14.7,\n",
    "                                         15.7, 15.4, 16.3, 15.0, 17.2, 16.0, 17.0,\n",
    "                                         14.4],\n",
    "                       \"Ground Temperature\": [88.6, 71.6, 93.3, 84.3, 80.6, 75.2, 69.7,\n",
    "                                              71.6, 69.4, 83.3, 79.6, 82.6, 80.6, 83.5,\n",
    "                                              76.3]}\n",
    "df = pd.DataFrame(ground_cricket_data)"
   ]
  },
  {
   "cell_type": "markdown",
   "metadata": {},
   "source": [
    "### Tasks\n",
    "\n",
    "1. Find the linear regression equation for this data.\n",
    "2. Chart the original data and the equation on the chart.\n",
    "3. Find the equation's $R^2$ score (use the `.score` method) to determine whether the equation is a good fit for this data. (0.8 and greater is considered a strong correlation.)\n",
    "4. Extrapolate data:  If the ground temperature reached 95&deg; F, then at what approximate rate would you expect the crickets to be chirping?\n",
    "5. Interpolate data:  With a listening device, you discovered that on a particular morning the crickets were chirping at a rate of 18 chirps per second.  What was the approximate ground temperature that morning?"
   ]
  },
  {
   "cell_type": "code",
   "execution_count": 3,
   "metadata": {
    "collapsed": false
   },
   "outputs": [],
   "source": [
    "X = df[['Ground Temperature']]\n",
    "y = df['Chirps/Second']"
   ]
  },
  {
   "cell_type": "code",
   "execution_count": 4,
   "metadata": {
    "collapsed": false
   },
   "outputs": [
    {
     "name": "stderr",
     "output_type": "stream",
     "text": [
      "/usr/local/lib/python3.5/site-packages/scipy/linalg/basic.py:884: RuntimeWarning: internal gelsd driver lwork query error, required iwork dimension not returned. This is likely the result of LAPACK bug 0038, fixed in LAPACK 3.2.2 (released July 21, 2010). Falling back to 'gelss' driver.\n",
      "  warnings.warn(mesg, RuntimeWarning)\n"
     ]
    }
   ],
   "source": [
    "linreg = LinearRegression().fit(X, y)"
   ]
  },
  {
   "cell_type": "markdown",
   "metadata": {},
   "source": [
    "##### 1. Find the linear regression equation for this data."
   ]
  },
  {
   "cell_type": "code",
   "execution_count": 5,
   "metadata": {
    "collapsed": false
   },
   "outputs": [
    {
     "name": "stdout",
     "output_type": "stream",
     "text": [
      "Lin. Reg. Eq.: y =  0.202999731408 x +  0.459314645236\n"
     ]
    }
   ],
   "source": [
    "print('Lin. Reg. Eq.: y = ', linreg.coef_[0],'x + ', linreg.intercept_)"
   ]
  },
  {
   "cell_type": "markdown",
   "metadata": {},
   "source": [
    "##### 2. Chart the original data and the equation on the chart."
   ]
  },
  {
   "cell_type": "code",
   "execution_count": 6,
   "metadata": {
    "collapsed": false
   },
   "outputs": [
    {
     "data": {
      "text/plain": [
       "[<matplotlib.lines.Line2D at 0x116bd20f0>]"
      ]
     },
     "execution_count": 6,
     "metadata": {},
     "output_type": "execute_result"
    },
    {
     "data": {
      "image/png": "[encoded data removed]",
      "text/plain": [
       "<matplotlib.figure.Figure at 0x116bd2240>"
      ]
     },
     "metadata": {},
     "output_type": "display_data"
    }
   ],
   "source": [
    "df.plot(kind='scatter', x='Ground Temperature', y='Chirps/Second', figsize=(16, 8))\n",
    "plt.plot(X, linreg.predict(X))"
   ]
  },
  {
   "cell_type": "markdown",
   "metadata": {},
   "source": [
    "##### 3. Find the equation's  R<sup>2</sup>  score (use the .score method) to determine whether the equation is a good fit for this data. (0.8 and greater is considered a strong correlation.)"
   ]
  },
  {
   "cell_type": "code",
   "execution_count": 7,
   "metadata": {
    "collapsed": false
   },
   "outputs": [
    {
     "name": "stdout",
     "output_type": "stream",
     "text": [
      "R-squared: 0.692294652915\n"
     ]
    }
   ],
   "source": [
    "print('R-squared:', linreg.score(X, y))"
   ]
  },
  {
   "cell_type": "markdown",
   "metadata": {},
   "source": [
    "This is not a very strong correlation."
   ]
  },
  {
   "cell_type": "markdown",
   "metadata": {},
   "source": [
    "##### 4. Extrapolate data: If the ground temperature reached 95° F, then at what approximate rate would you expect the crickets to be chirping?"
   ]
  },
  {
   "cell_type": "code",
   "execution_count": 8,
   "metadata": {
    "collapsed": false
   },
   "outputs": [
    {
     "name": "stdout",
     "output_type": "stream",
     "text": [
      "Prediction: 19.7 chirps per second\n"
     ]
    }
   ],
   "source": [
    "print('Prediction:', round(linreg.predict(95)[0], 1), \"chirps per second\")"
   ]
  },
  {
   "cell_type": "markdown",
   "metadata": {},
   "source": [
    "##### 5. Interpolate data: With a listening device, you discovered that on a particular morning the crickets were chirping at a rate of 18 chirps per second. What was the approximate ground temperature that morning?"
   ]
  },
  {
   "cell_type": "code",
   "execution_count": 9,
   "metadata": {
    "collapsed": false
   },
   "outputs": [
    {
     "name": "stdout",
     "output_type": "stream",
     "text": [
      "Prediction: 84.2 degrees\n"
     ]
    }
   ],
   "source": [
    "X = df[['Chirps/Second']]\n",
    "y = df['Ground Temperature']\n",
    "result = LinearRegression().fit(X,y).predict(18)\n",
    "print('Prediction:', round(result[0], 1), \"degrees\")"
   ]
  },
  {
   "cell_type": "markdown",
   "metadata": {},
   "source": [
    "## Brain vs. Body Weight\n",
    "\n",
    "In the file `brain_body.txt`, the average brain and body weight for a number of mammal species are recorded. Load this data into a Pandas data frame.\n",
    "\n",
    "### Tasks\n",
    "\n",
    "1. Find the linear regression equation for this data for brain weight to body weight.\n",
    "2. Chart the original data and the equation on the chart.\n",
    "3. Find the equation's $R^2$ score (use the `.score` method) to determine whether the equation is a good fit for this data. (0.8 and greater is considered a strong correlation.)"
   ]
  },
  {
   "cell_type": "code",
   "execution_count": 10,
   "metadata": {
    "collapsed": false
   },
   "outputs": [],
   "source": [
    "df = pd.read_fwf(\"brain_body.txt\")"
   ]
  },
  {
   "cell_type": "markdown",
   "metadata": {},
   "source": [
    "##### 1. Find the linear regression equation for this data for brain weight to body weight."
   ]
  },
  {
   "cell_type": "code",
   "execution_count": 11,
   "metadata": {
    "collapsed": false
   },
   "outputs": [
    {
     "name": "stdout",
     "output_type": "stream",
     "text": [
      "Lin. Reg. Eq.: y =  0.966496367673 x +  91.0043962074\n"
     ]
    }
   ],
   "source": [
    "X = df[['Brain']]\n",
    "y = df['Body']\n",
    "linreg = LinearRegression().fit(X, y)\n",
    "print('Lin. Reg. Eq.: y = ', linreg.coef_[0],'x + ', linreg.intercept_)"
   ]
  },
  {
   "cell_type": "markdown",
   "metadata": {},
   "source": [
    "##### 2. Chart the original data and the equation on the chart."
   ]
  },
  {
   "cell_type": "code",
   "execution_count": 12,
   "metadata": {
    "collapsed": false
   },
   "outputs": [
    {
     "data": {
      "text/plain": [
       "[<matplotlib.lines.Line2D at 0x116d33588>]"
      ]
     },
     "execution_count": 12,
     "metadata": {},
     "output_type": "execute_result"
    },
    {
     "data": {
      "image/png": "[encoded data removed]",
      "text/plain": [
       "<matplotlib.figure.Figure at 0x116d33518>"
      ]
     },
     "metadata": {},
     "output_type": "display_data"
    }
   ],
   "source": [
    "df.plot(kind='scatter', x='Brain', y='Body', figsize=(16, 8))\n",
    "plt.plot(X, linreg.predict(X))"
   ]
  },
  {
   "cell_type": "markdown",
   "metadata": {},
   "source": [
    "##### 3. Find the equation's  R<sup>2</sup> score (use the .score method) to determine whether the equation is a good fit for this data. (0.8 and greater is considered a strong correlation.) "
   ]
  },
  {
   "cell_type": "code",
   "execution_count": 13,
   "metadata": {
    "collapsed": false
   },
   "outputs": [
    {
     "name": "stdout",
     "output_type": "stream",
     "text": [
      "R-squared: 0.872662084304\n"
     ]
    }
   ],
   "source": [
    "print('R-squared:', linreg.score(X, y))"
   ]
  },
  {
   "cell_type": "markdown",
   "metadata": {},
   "source": [
    "Not bad."
   ]
  },
  {
   "cell_type": "markdown",
   "metadata": {},
   "source": [
    "## Salary Discrimination\n",
    "\n",
    "The file `salary.txt` contains data for 52 tenure-track professors at a small Midwestern college. This data was used in legal proceedings in the 1980s about discrimination against women in salary.\n",
    "\n",
    "The data in the file, by column:\n",
    "\n",
    "1. Sex. 1 for female, 0 for male.\n",
    "2. Rank. 1 for assistant professor, 2 for associate professor, 3 for full professor.\n",
    "3. Year. Number of years in current rank.\n",
    "4. Degree. Highest degree. 1 for doctorate, 0 for master's.\n",
    "5. YSdeg. Years since highest degree was earned.\n",
    "6. Salary. Salary/year in dollars.\n",
    "\n",
    "### Tasks\n",
    "\n",
    "1. Find the linear regression equation for this data using columns 1-5 to column 6.\n",
    "2. Find the selection of columns with the best $R^2$ score.\n",
    "3. Report whether sex is a factor in salary. Support your argument with graph(s) if appropriate."
   ]
  },
  {
   "cell_type": "code",
   "execution_count": 14,
   "metadata": {
    "collapsed": false
   },
   "outputs": [],
   "source": [
    "df = pd.read_fwf(\"salary.txt\", header=None, \n",
    "                 names=[\"Sex\", \"Rank\", \"Year\", \"Degree\", \"YSdeg\", \"Salary\"])"
   ]
  },
  {
   "cell_type": "markdown",
   "metadata": {},
   "source": [
    "##### 1. Find the linear regression equation for this data using columns 1-5 to column 6."
   ]
  },
  {
   "cell_type": "code",
   "execution_count": 15,
   "metadata": {
    "collapsed": false
   },
   "outputs": [],
   "source": [
    "feature_cols = ['Sex', 'Rank', 'Year', 'Degree','YSdeg']\n",
    "X = df[feature_cols]\n",
    "y = df.Salary\n",
    "linreg = LinearRegression().fit(X, y)"
   ]
  },
  {
   "cell_type": "code",
   "execution_count": 16,
   "metadata": {
    "collapsed": false
   },
   "outputs": [
    {
     "name": "stdout",
     "output_type": "stream",
     "text": [
      "Lin. Reg. Eq.: y =  [ 1241.7924996   5586.18144952   482.85976783 -1331.64406341  -128.79057354] X +  11410.1465473\n"
     ]
    }
   ],
   "source": [
    "print('Lin. Reg. Eq.: y = ', linreg.coef_ ,'X + ', linreg.intercept_)"
   ]
  },
  {
   "cell_type": "markdown",
   "metadata": {},
   "source": [
    "#### 2. Find the selection of columns with the best  R<sup>2</sup>  score."
   ]
  },
  {
   "cell_type": "code",
   "execution_count": 17,
   "metadata": {
    "collapsed": true
   },
   "outputs": [],
   "source": [
    "def all_combs(iter):\n",
    "    combs = []\n",
    "    for L in range(1, len(iter)+1):\n",
    "        for subset in itr.combinations(iter, L):\n",
    "            combs.append(list(subset))\n",
    "    return combs"
   ]
  },
  {
   "cell_type": "code",
   "execution_count": 18,
   "metadata": {
    "collapsed": false
   },
   "outputs": [],
   "source": [
    "combs = all_combs(feature_cols)"
   ]
  },
  {
   "cell_type": "code",
   "execution_count": 19,
   "metadata": {
    "collapsed": false
   },
   "outputs": [
    {
     "data": {
      "text/plain": [
       "[['Sex'],\n",
       " ['Rank'],\n",
       " ['Year'],\n",
       " ['Degree'],\n",
       " ['YSdeg'],\n",
       " ['Sex', 'Rank'],\n",
       " ['Sex', 'Year'],\n",
       " ['Sex', 'Degree'],\n",
       " ['Sex', 'YSdeg'],\n",
       " ['Rank', 'Year'],\n",
       " ['Rank', 'Degree'],\n",
       " ['Rank', 'YSdeg'],\n",
       " ['Year', 'Degree'],\n",
       " ['Year', 'YSdeg'],\n",
       " ['Degree', 'YSdeg'],\n",
       " ['Sex', 'Rank', 'Year'],\n",
       " ['Sex', 'Rank', 'Degree'],\n",
       " ['Sex', 'Rank', 'YSdeg'],\n",
       " ['Sex', 'Year', 'Degree'],\n",
       " ['Sex', 'Year', 'YSdeg'],\n",
       " ['Sex', 'Degree', 'YSdeg'],\n",
       " ['Rank', 'Year', 'Degree'],\n",
       " ['Rank', 'Year', 'YSdeg'],\n",
       " ['Rank', 'Degree', 'YSdeg'],\n",
       " ['Year', 'Degree', 'YSdeg'],\n",
       " ['Sex', 'Rank', 'Year', 'Degree'],\n",
       " ['Sex', 'Rank', 'Year', 'YSdeg'],\n",
       " ['Sex', 'Rank', 'Degree', 'YSdeg'],\n",
       " ['Sex', 'Year', 'Degree', 'YSdeg'],\n",
       " ['Rank', 'Year', 'Degree', 'YSdeg'],\n",
       " ['Sex', 'Rank', 'Year', 'Degree', 'YSdeg']]"
      ]
     },
     "execution_count": 19,
     "metadata": {},
     "output_type": "execute_result"
    }
   ],
   "source": [
    "combs"
   ]
  },
  {
   "cell_type": "code",
   "execution_count": 20,
   "metadata": {
    "collapsed": false
   },
   "outputs": [
    {
     "data": {
      "text/plain": [
       "(0.85471806744109713, ['Sex', 'Rank', 'Year', 'Degree', 'YSdeg'])"
      ]
     },
     "execution_count": 20,
     "metadata": {},
     "output_type": "execute_result"
    }
   ],
   "source": [
    "max([(LinearRegression().fit(df[comb], df.Salary).score(df[comb], df.Salary), comb) for comb in combs])"
   ]
  },
  {
   "cell_type": "markdown",
   "metadata": {},
   "source": [
    "The highest R<sup>2</sup> value comes from the line of best fit determined by all five variables."
   ]
  },
  {
   "cell_type": "markdown",
   "metadata": {},
   "source": [
    "##### 3. Report whether sex is a factor in salary. Support your argument with graph(s) if appropriate."
   ]
  },
  {
   "cell_type": "code",
   "execution_count": 21,
   "metadata": {
    "collapsed": false
   },
   "outputs": [
    {
     "data": {
      "text/plain": [
       "<matplotlib.axes._subplots.AxesSubplot at 0x1177aa358>"
      ]
     },
     "execution_count": 21,
     "metadata": {},
     "output_type": "execute_result"
    },
    {
     "data": {
      "image/png": "[encoded data removed]",
      "text/plain": [
       "<matplotlib.figure.Figure at 0x116d24128>"
      ]
     },
     "metadata": {},
     "output_type": "display_data"
    }
   ],
   "source": [
    "fig, axs = plt.subplots(1, 5, sharey=True)\n",
    "df.plot(kind='scatter', x='Sex', y='Salary', ax=axs[0], figsize=(16, 8))\n",
    "df.plot(kind='scatter', x='Rank', y='Salary', ax=axs[1])\n",
    "df.plot(kind='scatter', x='Year', y='Salary', ax=axs[2])\n",
    "df.plot(kind='scatter', x='Degree', y='Salary', ax=axs[3])\n",
    "df.plot(kind='scatter', x='YSdeg', y='Salary', ax=axs[4])"
   ]
  },
  {
   "cell_type": "markdown",
   "metadata": {},
   "source": [
    "Sex, Rank, and Degree graphs show us very little since those variables are nominal and therefore more or less boolean in nature. At first glance, though, it appears that there are more male data points than female and a quick visual inspection of those points' distributions suggests the median and mean male salary must be higher than that of the females. However rank and degree must be considered.  A difference in mean or median income could indicate salary discrimination **assuming each professor's field of expertise is also equally valuable**. Let's look deeper. "
   ]
  },
  {
   "cell_type": "markdown",
   "metadata": {},
   "source": [
    "First, let's clean up our original full dataframe, and perform analysis along the way."
   ]
  },
  {
   "cell_type": "code",
   "execution_count": 22,
   "metadata": {
    "collapsed": true
   },
   "outputs": [],
   "source": [
    "df['Sex'] = df['Sex'].replace(0, 'Male')\n",
    "df['Sex'] = df['Sex'].replace(1, 'Female')"
   ]
  },
  {
   "cell_type": "code",
   "execution_count": 23,
   "metadata": {
    "collapsed": true
   },
   "outputs": [],
   "source": [
    "df['Degree'] = df['Degree'].replace(0, 'Master\\'s')\n",
    "df['Degree'] = df['Degree'].replace(1, 'Doctorate')"
   ]
  },
  {
   "cell_type": "code",
   "execution_count": 24,
   "metadata": {
    "collapsed": true
   },
   "outputs": [],
   "source": [
    "df['Rank'] = df['Rank'].replace(1, 'Assistant')\n",
    "df['Rank'] = df['Rank'].replace(2, 'Associate')\n",
    "df['Rank'] = df['Rank'].replace(3, 'Full')"
   ]
  },
  {
   "cell_type": "code",
   "execution_count": 25,
   "metadata": {
    "collapsed": false
   },
   "outputs": [
    {
     "data": {
      "text/html": [
       "<div>\n",
       "<table border=\"1\" class=\"dataframe\">\n",
       "  <thead>\n",
       "    <tr style=\"text-align: right;\">\n",
       "      <th></th>\n",
       "      <th>Sex</th>\n",
       "      <th>Rank</th>\n",
       "      <th>Year</th>\n",
       "      <th>Degree</th>\n",
       "      <th>YSdeg</th>\n",
       "      <th>Salary</th>\n",
       "    </tr>\n",
       "  </thead>\n",
       "  <tbody>\n",
       "    <tr>\n",
       "      <th>0</th>\n",
       "      <td>Male</td>\n",
       "      <td>Full</td>\n",
       "      <td>25</td>\n",
       "      <td>Doctorate</td>\n",
       "      <td>35</td>\n",
       "      <td>36350</td>\n",
       "    </tr>\n",
       "    <tr>\n",
       "      <th>1</th>\n",
       "      <td>Male</td>\n",
       "      <td>Full</td>\n",
       "      <td>13</td>\n",
       "      <td>Doctorate</td>\n",
       "      <td>22</td>\n",
       "      <td>35350</td>\n",
       "    </tr>\n",
       "    <tr>\n",
       "      <th>2</th>\n",
       "      <td>Male</td>\n",
       "      <td>Full</td>\n",
       "      <td>10</td>\n",
       "      <td>Doctorate</td>\n",
       "      <td>23</td>\n",
       "      <td>28200</td>\n",
       "    </tr>\n",
       "    <tr>\n",
       "      <th>3</th>\n",
       "      <td>Female</td>\n",
       "      <td>Full</td>\n",
       "      <td>7</td>\n",
       "      <td>Doctorate</td>\n",
       "      <td>27</td>\n",
       "      <td>26775</td>\n",
       "    </tr>\n",
       "    <tr>\n",
       "      <th>4</th>\n",
       "      <td>Male</td>\n",
       "      <td>Full</td>\n",
       "      <td>19</td>\n",
       "      <td>Master's</td>\n",
       "      <td>30</td>\n",
       "      <td>33696</td>\n",
       "    </tr>\n",
       "  </tbody>\n",
       "</table>\n",
       "</div>"
      ],
      "text/plain": [
       "      Sex  Rank  Year     Degree  YSdeg  Salary\n",
       "0    Male  Full    25  Doctorate     35   36350\n",
       "1    Male  Full    13  Doctorate     22   35350\n",
       "2    Male  Full    10  Doctorate     23   28200\n",
       "3  Female  Full     7  Doctorate     27   26775\n",
       "4    Male  Full    19   Master's     30   33696"
      ]
     },
     "execution_count": 25,
     "metadata": {},
     "output_type": "execute_result"
    }
   ],
   "source": [
    "df.head()"
   ]
  },
  {
   "cell_type": "code",
   "execution_count": 26,
   "metadata": {
    "collapsed": false
   },
   "outputs": [
    {
     "data": {
      "text/plain": [
       "Male      38\n",
       "Female    14\n",
       "Name: Sex, dtype: int64"
      ]
     },
     "execution_count": 26,
     "metadata": {},
     "output_type": "execute_result"
    }
   ],
   "source": [
    "df.Sex.value_counts()"
   ]
  },
  {
   "cell_type": "markdown",
   "metadata": {},
   "source": [
    "###### We can see there are many more male data points than female data points."
   ]
  },
  {
   "cell_type": "code",
   "execution_count": 27,
   "metadata": {
    "collapsed": false
   },
   "outputs": [
    {
     "data": {
      "text/plain": [
       "Sex\n",
       "Female    21357.142857\n",
       "Male      24696.789474\n",
       "Name: Salary, dtype: float64"
      ]
     },
     "execution_count": 27,
     "metadata": {},
     "output_type": "execute_result"
    }
   ],
   "source": [
    "df.groupby(by='Sex').Salary.mean()"
   ]
  },
  {
   "cell_type": "code",
   "execution_count": 28,
   "metadata": {
    "collapsed": false
   },
   "outputs": [
    {
     "data": {
      "text/plain": [
       "Sex\n",
       "Female    20495\n",
       "Male      24746\n",
       "Name: Salary, dtype: int64"
      ]
     },
     "execution_count": 28,
     "metadata": {},
     "output_type": "execute_result"
    }
   ],
   "source": [
    "df.groupby(by='Sex').Salary.median()"
   ]
  },
  {
   "cell_type": "markdown",
   "metadata": {},
   "source": [
    "##### As previously presumed, the mean and median male salary is higher than the mean and median female salary"
   ]
  },
  {
   "cell_type": "code",
   "execution_count": 29,
   "metadata": {
    "collapsed": false
   },
   "outputs": [
    {
     "data": {
      "text/plain": [
       "Sex     Rank     \n",
       "Female  Assistant     8\n",
       "        Full          4\n",
       "        Associate     2\n",
       "Male    Full         16\n",
       "        Associate    12\n",
       "        Assistant    10\n",
       "Name: Rank, dtype: int64"
      ]
     },
     "execution_count": 29,
     "metadata": {},
     "output_type": "execute_result"
    }
   ],
   "source": [
    "df.groupby(by='Sex').Rank.value_counts()"
   ]
  },
  {
   "cell_type": "markdown",
   "metadata": {},
   "source": [
    "###### We also see that males professors are proportionally in higher rank positions than their female counterparts."
   ]
  },
  {
   "cell_type": "code",
   "execution_count": 30,
   "metadata": {
    "collapsed": false
   },
   "outputs": [
    {
     "data": {
      "text/plain": [
       "Sex     Degree   \n",
       "Female  Doctorate    10\n",
       "        Master's      4\n",
       "Male    Doctorate    24\n",
       "        Master's     14\n",
       "Name: Degree, dtype: int64"
      ]
     },
     "execution_count": 30,
     "metadata": {},
     "output_type": "execute_result"
    }
   ],
   "source": [
    "df.groupby(by='Sex').Degree.value_counts()"
   ]
  },
  {
   "cell_type": "markdown",
   "metadata": {},
   "source": [
    "...but a larger propotion of female professors have doctorate degrees compared to their male counterparts...\n",
    "\n",
    "This in and of itself is not proof of salary discrimination, since you can see from the graphs above that there is a good bit of overlap in the pay brackets between both rank and degree."
   ]
  },
  {
   "cell_type": "markdown",
   "metadata": {},
   "source": [
    "##### Let's compare the salaries of professors grouped by rank and degree, then by sex."
   ]
  },
  {
   "cell_type": "code",
   "execution_count": 54,
   "metadata": {
    "collapsed": false
   },
   "outputs": [
    {
     "data": {
      "text/plain": [
       "Rank       Degree     Sex   \n",
       "Assistant  Doctorate  Female    17005.714286\n",
       "                      Male      16901.142857\n",
       "           Master's   Female    21600.000000\n",
       "                      Male      20296.000000\n",
       "Associate  Doctorate  Male      23246.200000\n",
       "           Master's   Female    21570.000000\n",
       "                      Male      23584.571429\n",
       "Full       Doctorate  Female    30106.666667\n",
       "                      Male      29592.750000\n",
       "           Master's   Female    24900.000000\n",
       "                      Male      30711.500000\n",
       "Name: Salary, dtype: float64"
      ]
     },
     "execution_count": 54,
     "metadata": {},
     "output_type": "execute_result"
    }
   ],
   "source": [
    "df.groupby(by=['Rank','Degree','Sex']).Salary.mean()"
   ]
  },
  {
   "cell_type": "code",
   "execution_count": 55,
   "metadata": {
    "collapsed": false
   },
   "outputs": [
    {
     "data": {
      "text/plain": [
       "Rank       Degree     Sex   \n",
       "Assistant  Doctorate  Female    16686\n",
       "                      Male      16700\n",
       "           Master's   Female    21600\n",
       "                      Male      19175\n",
       "Associate  Doctorate  Male      24750\n",
       "           Master's   Female    21570\n",
       "                      Male      23712\n",
       "Full       Doctorate  Female    26775\n",
       "                      Male      28358\n",
       "           Master's   Female    24900\n",
       "                      Male      32350\n",
       "Name: Salary, dtype: int64"
      ]
     },
     "execution_count": 55,
     "metadata": {},
     "output_type": "execute_result"
    }
   ],
   "source": [
    "df.groupby(by=['Rank','Degree','Sex']).Salary.median()"
   ]
  },
  {
   "cell_type": "markdown",
   "metadata": {},
   "source": [
    "The findings here are somewhat conflicting.  In some cases, like with assistant professors, there is little difference between the mean and median salaries with respect to gender.  In fact, women's salaries are slightly higher.  For associate professors with master's degrees, men seem to make \\$2,000 more a year than women.  In full professorships, women with doctorate degrees on average make just as much as men, though the median income is higher for men.  The most blatant different is among full professors with master's degrees, where it seems that men make at least \\$5,000 more than women with the same basic qualifications.\n",
    "\n",
    "So... is sex a factor in salary?  It appears there is a wage gap that grows as we look higher in rank.\n",
    "\n",
    "However, there are a few things to consider about this data set before citing this as proof of social injustice:\n",
    "\n",
    "1. This is a very small data set.\n",
    "2. There is no metric for each professor's field of study.  It would be naive to assume that all fields of study are equally valuable, and so we cannot rightly claim that gender is the only possible explanation for the salary gap that we see.\n",
    "\n",
    "Considering my second point, it would perhaps be a better approach to find mean and median salaries for certain fields of study, and then find the distribution of gender within those fields of study.  From there, it could be determined if women were underrepresented in higher paying fields, and then address the causes of that."
   ]
  },
  {
   "cell_type": "code",
   "execution_count": null,
   "metadata": {
    "collapsed": true
   },
   "outputs": [],
   "source": []
  }
 ],
 "metadata": {
  "kernelspec": {
   "display_name": "Python 3",
   "language": "python",
   "name": "python3"
  },
  "language_info": {
   "codemirror_mode": {
    "name": "ipython",
    "version": 3
   },
   "file_extension": ".py",
   "mimetype": "text/x-python",
   "name": "python",
   "nbconvert_exporter": "python",
   "pygments_lexer": "ipython3",
   "version": "3.5.1"
  }
 },
 "nbformat": 4,
 "nbformat_minor": 0
}
